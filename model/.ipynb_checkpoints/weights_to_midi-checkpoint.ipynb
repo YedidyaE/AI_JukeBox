{
 "cells": [
  {
   "cell_type": "markdown",
   "metadata": {},
   "source": [
    "# AI Jukebox"
   ]
  },
  {
   "cell_type": "markdown",
   "metadata": {},
   "source": [
    "### Generate Midi File\n",
    "Plug in trained weights and notes file to generate midi.  "
   ]
  },
  {
   "cell_type": "code",
   "execution_count": 1,
   "metadata": {},
   "outputs": [
    {
     "name": "stderr",
     "output_type": "stream",
     "text": [
      "C:\\Users\\yedid\\Miniconda3\\envs\\PythonData\\lib\\site-packages\\h5py\\__init__.py:36: FutureWarning: Conversion of the second argument of issubdtype from `float` to `np.floating` is deprecated. In future, it will be treated as `np.float64 == np.dtype(float).type`.\n",
      "  from ._conv import register_converters as _register_converters\n",
      "Using TensorFlow backend.\n"
     ]
    }
   ],
   "source": [
    "# uncomment the below to force CPU\n",
    "import os\n",
    "# os.environ['CUDA_VISIBLE_DEVICES'] = '-1'\n",
    "\n",
    "import sys\n",
    "from datetime import datetime\n",
    "import re\n",
    "import pickle\n",
    "import pandas as pd\n",
    "import matplotlib.pyplot as plt\n",
    "\n",
    "import functions as fxn"
   ]
  },
  {
   "cell_type": "code",
   "execution_count": 2,
   "metadata": {},
   "outputs": [
    {
     "data": {
      "text/plain": [
       "'C:\\\\Users\\\\yedid\\\\Miniconda3\\\\envs\\\\PythonData\\\\python.exe'"
      ]
     },
     "execution_count": 2,
     "metadata": {},
     "output_type": "execute_result"
    }
   ],
   "source": [
    "sys.executable"
   ]
  },
  {
   "cell_type": "code",
   "execution_count": 3,
   "metadata": {},
   "outputs": [],
   "source": [
    "subfolder = '../trained/FF/'\n",
    "weight_file = subfolder + 'FF_weights_201803282154.hdf5'\n",
    "note_file = subfolder + 'FF_inputnotes_201803282154'\n",
    "#history_file = subfolder + 'Classical_history_201804041329.pkl'\n",
    "output_file = subfolder + 'FF1_outputnotes_201803282154'\n",
    "\n",
    "timestamp = re.sub(r'[-: ]','',str(datetime.now()).split('.')[0])[:-2]\n",
    "output_name = weight_file.split('/')[-2]\n",
    "\n",
    "sequence_length = 200 # the LSTM RNN will consider this length note sequence to predict/generate each following note\n",
    "output_tag = '../trained/FF/midi_{}_{}_'.format(output_name,timestamp)\n",
    "notes_generated = 500\n",
    "\n",
    "temperature = 1.2\n",
    "offset_adj = 0.5"
   ]
  },
  {
   "cell_type": "code",
   "execution_count": 4,
   "metadata": {},
   "outputs": [],
   "source": [
    "# convert fully trained weights to midi file\n",
    "def weights_to_midi(note_file, sequence_length, weight_file, temperature, offset_adj):\n",
    "    with open(note_file, 'rb') as filepath:\n",
    "        notes = pickle.load(filepath)\n",
    "    network_input, network_output, n_patterns, n_vocab, pitchnames = fxn.prepare_sequences(notes, sequence_length)\n",
    "    normalized_input = fxn.reshape_for_creation(network_input, n_patterns, sequence_length, n_vocab)\n",
    "    model = fxn.create_network(normalized_input, n_vocab, weight_file)\n",
    "    prediction_output= fxn.generate_notes(model, network_input, pitchnames,sequence_length, notes_generated, n_vocab, temperature)\n",
    "    output_notes, midi_file = fxn.create_midi(prediction_output, output_tag, sequence_length, offset_adj)\n",
    "    return output_notes, model, midi_file"
   ]
  },
  {
   "cell_type": "code",
   "execution_count": 5,
   "metadata": {},
   "outputs": [
    {
     "name": "stdout",
     "output_type": "stream",
     "text": [
      "\n",
      "**Preparing sequences for training**\n",
      "Pitchnames (unique notes/chords from 'notes') at length 358: ['0', '0.1', '0.1.5', '0.1.6', '0.2', '0.2.3.7', '0.2.4.7', '0.2.5', '0.2.6', '0.2.7', '0.3', '0.3.5', '0.3.5.8', '0.3.6', '0.3.6.8', '0.3.6.9', '0.3.7', '0.4', '0.4.5', '0.4.6', '0.4.7', '0.5', '0.5.6', '0.6', '1', '1.2', '1.2.4.6.8.10', '1.2.6', '1.2.6.8', '1.3', '1.3.5', '1.3.5.8', '1.3.6', '1.3.7', '1.3.8', '1.4', '1.4.6', '1.4.6.9', '1.4.7', '1.4.7.10', '1.4.7.9', '1.4.8', '1.5', '1.5.8', '1.5.9', '1.6', '1.7', '10', '10.0', '10.0.2.5', '10.0.3', '10.0.4', '10.0.5', '10.1', '10.1.3', '10.1.3.5.6', '10.1.3.6', '10.1.4', '10.1.4.6', '10.1.5', '10.11', '10.11.3', '10.11.3.5', '10.2', '10.2.3', '10.2.4', '10.2.5', '10.3', '11', '11.0', '11.0.4', '11.0.4.6', '11.0.4.7', '11.0.5', '11.1', '11.1.4', '11.1.4.5', '11.1.5', '11.1.6', '11.2', '11.2.4', '11.2.4.6', '11.2.4.7', '11.2.5', '11.2.5.7', '11.2.6', '11.3', '11.3.5', '11.3.6', '11.4', '11.4.5', '2', '2.3', '2.3.7', '2.3.7.10', '2.3.7.9', '2.4', '2.4.5', '2.4.5.9', '2.4.6.9.11', '2.4.7', '2.4.7.10', '2.4.8', '2.4.9', '2.5', '2.5.7', '2.5.7.10', '2.5.8', '2.5.8.10', '2.5.8.11', '2.5.9', '2.6', '2.6.10', '2.6.7', '2.6.7.9', '2.6.9', '2.7', '2.7.8', '2.8', '3', '3.4', '3.4.8', '3.4.8.10', '3.5', '3.5.10', '3.5.7', '3.5.7.10', '3.5.7.8.11', '3.5.8', '3.5.8.11', '3.6', '3.6.10', '3.6.7', '3.6.8', '3.6.9.11', '3.7', '3.7.10', '3.7.11', '3.7.9', '3.7.9.10', '3.8', '3.8.9', '3.9', '4', '4.10', '4.5', '4.5.7.11', '4.5.9', '4.5.9.0', '4.5.9.11', '4.6', '4.6.10', '4.6.11', '4.6.7', '4.6.8.11.1', '4.6.9', '4.6.9.11', '4.7', '4.7.10', '4.7.11', '4.7.9', '4.7.9.0', '4.7.9.11', '4.8', '4.8.10', '4.8.11', '4.8.9', '4.8.9.11', '4.9', '4.9.10', '5', '5.10', '5.10.11', '5.11', '5.6', '5.7', '5.7.0', '5.7.10', '5.7.8.0', '5.8', '5.8.0', '5.8.10', '5.8.11', '5.9', '5.9.0', '5.9.11', '5.9.11.0', '6', '6.10', '6.10.0', '6.10.1', '6.10.11', '6.10.11.1', '6.11', '6.11.0', '6.7', '6.7.0', '6.7.11', '6.7.11.2', '6.8', '6.8.0', '6.8.1', '6.8.10', '6.8.10.0.3', '6.8.11', '6.8.11.2', '6.9', '6.9.0', '6.9.0.2', '6.9.1', '6.9.11', '6.9.11.2', '7', '7.0', '7.10', '7.10.0', '7.10.0.3', '7.10.1', '7.10.1.3', '7.10.2', '7.11', '7.11.0', '7.11.2', '7.8', '7.8.0', '7.8.0.3', '7.8.10.2', '7.8.11', '7.9', '7.9.0', '7.9.1', '7.9.11', '7.9.11.2', '7.9.2', '8', '8.0', '8.0.1', '8.0.2', '8.0.3', '8.1', '8.10', '8.10.0', '8.10.1', '8.10.11.1.4', '8.10.11.3', '8.10.2', '8.10.3', '8.11', '8.11.1', '8.11.1.4', '8.11.2', '8.11.3', '8.9', '8.9.1', '8.9.1.3', '8.9.1.4', '8.9.11.1', '8.9.2', '9', '9.0', '9.0.2', '9.0.2.4', '9.0.2.5', '9.0.3', '9.0.3.5', '9.0.4', '9.1', '9.1.4', '9.10', '9.10.2', '9.10.2.4', '9.11', '9.11.0.4', '9.11.1', '9.11.2', '9.11.2.4', '9.11.2.5', '9.11.3', '9.11.4', '9.2', '9.2.3', 'A0', 'A1', 'A2', 'A3', 'A4', 'A5', 'A6', 'B-1', 'B-2', 'B-3', 'B-4', 'B-5', 'B-6', 'B0', 'B1', 'B2', 'B3', 'B4', 'B5', 'B6', 'C#1', 'C#2', 'C#3', 'C#4', 'C#5', 'C#6', 'C#7', 'C1', 'C2', 'C3', 'C4', 'C5', 'C6', 'C7', 'D1', 'D2', 'D3', 'D4', 'D5', 'D6', 'D7', 'E-1', 'E-2', 'E-3', 'E-4', 'E-5', 'E-6', 'E1', 'E2', 'E3', 'E4', 'E5', 'E6', 'F#1', 'F#2', 'F#3', 'F#4', 'F#5', 'F#6', 'F1', 'F2', 'F3', 'F4', 'F5', 'F6', 'G#1', 'G#2', 'G#3', 'G#4', 'G#5', 'G#6', 'G1', 'G2', 'G3', 'G4', 'G5', 'G6']\n",
      "Note to integer embedding created at length 358\n",
      "Network input and output created with (pre-transform) lengths 56977 and 56977\n",
      "Lengths. N Vocab: 358 N Patterns: 56977 Pitchnames: 358\n",
      "\n",
      "**Preparing sequences for output**\n",
      "Network Input of length 56977 is reshaped to normalized input of (56977, 200, 1)\n",
      "\n",
      "**LSTM model initializing**\n",
      "Input nodes: 512 Dropout: 0.5\n",
      "Input shape (timesteps, data_dim): (200,1)\n",
      "Weights file loaded\n",
      "\n",
      "**Generating notes**\n",
      "Length Pitchnames: 358\n",
      "Integer to note conversion at length: 358\n",
      "Network input length: 56977\n",
      "Pattern ends with length 200 and type <class 'list'>\n",
      "Generated Note Length: 500\n",
      "First 100: ['0.3.7', 'G3', 'A5', 'G#1', 'B-2', 'F3', 'C4', '4', '2.5', 'E5', 'C#2', 'A2', '6', '11', 'G3', '0.4.7', 'B1', 'B-3', '0', 'G4', 'G#4', '2', 'G#4', 'G2', '6', 'B2', 'F#5', '6', '0', 'G#2', 'A2', 'G2', '3.7', '0', 'G5', '1.6', '2.6.9', 'G5', 'E5', 'C#3', 'C5', '2.5', '11.4', 'B-3', 'B2', 'G5', 'B2', '2.5', 'C5', 'B-3', '6', '4.8.11', '0.3', 'B2', '11.2.5', 'G#5', 'A2', '0.3.7', 'E-5', '0.3', '0.4.7', '0.5', 'B-4', 'G5', '2.6.9', 'G2', '6.10.1', '5.11', 'G2', 'C#3', '6', 'G3', 'G3', '2.6.9', 'E2', 'E3', '2.5', '0', 'F2', '6', '0', 'D5', 'E-6', '0.5', 'D4', '0', 'C#5', 'E-6', '2.6.9', '6.11', 'C4', 'G#5', 'A5', '2', '5', '0.3.7', '2.5', 'D3', '0', '6']\n",
      "\n",
      "**Creating midi**\n",
      "Generating 500 notes stored as <class 'list'>\n",
      "Midi saved at: ../trained/FF/midi_FF_201812212318_lstm_midi.mid\n",
      "Output notes/chords stored as <class 'list'> then pickled at ../trained/FF/midi_FF_201812212318_output_notes\n"
     ]
    }
   ],
   "source": [
    "# terminal_output = output_tag + 'terminal.log'\n",
    "# sys.stdout = ut.Logger(terminal_output)\n",
    "# print(\"Terminal output being saved at {}\".format(terminal_output))\n",
    "output_notes, model, midi_file = weights_to_midi(note_file, sequence_length, weight_file, temperature, offset_adj)\n",
    "# print(\"Run Complete. Terminal log saved at {}\".format(terminal_output))"
   ]
  },
  {
   "cell_type": "code",
   "execution_count": 6,
   "metadata": {},
   "outputs": [
    {
     "name": "stdout",
     "output_type": "stream",
     "text": [
      "_________________________________________________________________\n",
      "Layer (type)                 Output Shape              Param #   \n",
      "=================================================================\n",
      "bidirectional_1 (Bidirection (None, 1024)              2105344   \n",
      "_________________________________________________________________\n",
      "dense_1 (Dense)              (None, 512)               524800    \n",
      "_________________________________________________________________\n",
      "dropout_1 (Dropout)          (None, 512)               0         \n",
      "_________________________________________________________________\n",
      "dense_2 (Dense)              (None, 358)               183654    \n",
      "_________________________________________________________________\n",
      "dropout_2 (Dropout)          (None, 358)               0         \n",
      "_________________________________________________________________\n",
      "activation_1 (Activation)    (None, 358)               0         \n",
      "=================================================================\n",
      "Total params: 2,813,798\n",
      "Trainable params: 2,813,798\n",
      "Non-trainable params: 0\n",
      "_________________________________________________________________\n"
     ]
    }
   ],
   "source": [
    "model.summary()"
   ]
  },
  {
   "cell_type": "code",
   "execution_count": 7,
   "metadata": {},
   "outputs": [
    {
     "ename": "ModuleNotFoundError",
     "evalue": "No module named 'pydot'",
     "output_type": "error",
     "traceback": [
      "\u001b[1;31m---------------------------------------------------------------------------\u001b[0m",
      "\u001b[1;31mModuleNotFoundError\u001b[0m                       Traceback (most recent call last)",
      "\u001b[1;32m<ipython-input-7-53c11c6ad8c6>\u001b[0m in \u001b[0;36m<module>\u001b[1;34m()\u001b[0m\n\u001b[1;32m----> 1\u001b[1;33m \u001b[1;32mimport\u001b[0m \u001b[0mpydot\u001b[0m\u001b[1;33m\u001b[0m\u001b[0m\n\u001b[0m\u001b[0;32m      2\u001b[0m \u001b[1;32mimport\u001b[0m \u001b[0mgraphviz\u001b[0m\u001b[1;33m\u001b[0m\u001b[0m\n\u001b[0;32m      3\u001b[0m \u001b[1;32mfrom\u001b[0m \u001b[0mIPython\u001b[0m\u001b[1;33m.\u001b[0m\u001b[0mdisplay\u001b[0m \u001b[1;32mimport\u001b[0m \u001b[0mSVG\u001b[0m\u001b[1;33m\u001b[0m\u001b[0m\n\u001b[0;32m      4\u001b[0m \u001b[1;32mfrom\u001b[0m \u001b[0mkeras\u001b[0m\u001b[1;33m.\u001b[0m\u001b[0mutils\u001b[0m\u001b[1;33m.\u001b[0m\u001b[0mvis_utils\u001b[0m \u001b[1;32mimport\u001b[0m \u001b[0mmodel_to_dot\u001b[0m\u001b[1;33m,\u001b[0m \u001b[0mplot_model\u001b[0m\u001b[1;33m\u001b[0m\u001b[0m\n\u001b[0;32m      5\u001b[0m \u001b[1;33m\u001b[0m\u001b[0m\n",
      "\u001b[1;31mModuleNotFoundError\u001b[0m: No module named 'pydot'"
     ]
    }
   ],
   "source": [
    "import pydot\n",
    "import graphviz\n",
    "from IPython.display import SVG\n",
    "from keras.utils.vis_utils import model_to_dot, plot_model\n",
    "\n",
    "SVG(model_to_dot(model, show_shapes=True).create(prog='dot', format='svg'))"
   ]
  },
  {
   "cell_type": "code",
   "execution_count": null,
   "metadata": {},
   "outputs": [],
   "source": [
    "history = pd.read_pickle(history_file)"
   ]
  },
  {
   "cell_type": "code",
   "execution_count": null,
   "metadata": {},
   "outputs": [],
   "source": [
    "# summarize history for loss\n",
    "plt.plot(history['loss'])\n",
    "plt.plot(history['val_loss'])\n",
    "plt.title('model loss')\n",
    "plt.ylabel('loss')\n",
    "plt.xlabel('epoch')\n",
    "plt.legend(['train', 'validation'])\n",
    "plt.show()"
   ]
  },
  {
   "cell_type": "code",
   "execution_count": null,
   "metadata": {},
   "outputs": [],
   "source": [
    "output_notes = pd.read_pickle(output_file)"
   ]
  },
  {
   "cell_type": "code",
   "execution_count": null,
   "metadata": {},
   "outputs": [],
   "source": [
    "output_notes"
   ]
  },
  {
   "cell_type": "code",
   "execution_count": null,
   "metadata": {},
   "outputs": [],
   "source": []
  },
  {
   "cell_type": "code",
   "execution_count": null,
   "metadata": {},
   "outputs": [],
   "source": []
  },
  {
   "cell_type": "markdown",
   "metadata": {},
   "source": [
    "### Analyze created MIDI"
   ]
  },
  {
   "cell_type": "code",
   "execution_count": null,
   "metadata": {},
   "outputs": [],
   "source": [
    "import pretty_midi\n",
    "import matplotlib.pyplot as plt\n",
    "import librosa.display\n",
    "import pandas as pd\n",
    "import IPython.display as ipd"
   ]
  },
  {
   "cell_type": "code",
   "execution_count": null,
   "metadata": {},
   "outputs": [],
   "source": [
    "fs = 16000\n",
    "rate = 16000\n",
    "start_pitch = 24\n",
    "end_pitch = 84"
   ]
  },
  {
   "cell_type": "code",
   "execution_count": null,
   "metadata": {},
   "outputs": [],
   "source": [
    "def plot_piano_roll(pm, start_pitch, end_pitch, fs=10):\n",
    "    librosa.display.specshow(pm.get_piano_roll(fs)[start_pitch:end_pitch],\n",
    "                             hop_length=1, sr=fs, x_axis='time', y_axis='cqt_note',\n",
    "                             fmin=pretty_midi.note_number_to_hz(start_pitch))\n",
    "    \n",
    "def analyze_midi(midi_file):\n",
    "    instrument_dict = {}\n",
    "    pm = pretty_midi.PrettyMIDI(midi_file)\n",
    "    plt.figure(figsize=(12, 6))\n",
    "    plot_piano_roll(pm, start_pitch, end_pitch)\n",
    "    print(\"Time Signature Changes: {} Instruments: {}\".format(len(pm.time_signature_changes), len(pm.instruments)))\n",
    "    for instrument_num in range(len(pm.instruments)):\n",
    "        instrument_dict[instrument_num] = {'Notes': len(pm.instruments[instrument_num].notes), \n",
    "                                           'Pitch_Bends':len(pm.instruments[instrument_num].pitch_bends),\n",
    "                                           'Control_Changes':len(pm.instruments[instrument_num].control_changes)}\n",
    "    instrument_dict = pd.DataFrame(instrument_dict)\n",
    "    return instrument_dict, pm"
   ]
  },
  {
   "cell_type": "code",
   "execution_count": null,
   "metadata": {},
   "outputs": [],
   "source": [
    "# midi_file = 'output/201803281154-100-lstm_midi.mid'\n",
    "instrument_dict,pm = analyze_midi(midi_file)\n",
    "ipd.Audio(pm.synthesize(fs=fs), rate=rate)"
   ]
  },
  {
   "cell_type": "markdown",
   "metadata": {},
   "source": [
    "### Music21"
   ]
  },
  {
   "cell_type": "code",
   "execution_count": null,
   "metadata": {},
   "outputs": [],
   "source": [
    "from music21 import *\n",
    "\n",
    "env = environment.Environment()\n",
    "env['musicxmlPath'] = '/usr/bin/musescore'\n",
    "env['lilypondPath'] = '/usr/bin/lilypond'\n",
    "env['musescoreDirectPNGPath'] = '/usr/bin/musescore'\n",
    "env['pdfPath'] = '/usr/bin/lilypond'\n",
    "env['graphicsPath'] = '/usr/bin/lilypond'"
   ]
  },
  {
   "cell_type": "code",
   "execution_count": null,
   "metadata": {},
   "outputs": [],
   "source": [
    "note_stream = stream.Stream()\n",
    "for note in output_notes:\n",
    "    note_stream.append(note)\n",
    "    print(note)\n",
    "# note_stream.show()"
   ]
  },
  {
   "cell_type": "code",
   "execution_count": null,
   "metadata": {},
   "outputs": [],
   "source": []
  },
  {
   "cell_type": "code",
   "execution_count": null,
   "metadata": {},
   "outputs": [],
   "source": []
  },
  {
   "cell_type": "code",
   "execution_count": null,
   "metadata": {},
   "outputs": [],
   "source": []
  },
  {
   "cell_type": "code",
   "execution_count": null,
   "metadata": {},
   "outputs": [],
   "source": []
  },
  {
   "cell_type": "code",
   "execution_count": null,
   "metadata": {},
   "outputs": [],
   "source": []
  }
 ],
 "metadata": {
  "kernelspec": {
   "display_name": "PythonData",
   "language": "python",
   "name": "pythondata"
  },
  "language_info": {
   "codemirror_mode": {
    "name": "ipython",
    "version": 3
   },
   "file_extension": ".py",
   "mimetype": "text/x-python",
   "name": "python",
   "nbconvert_exporter": "python",
   "pygments_lexer": "ipython3",
   "version": "3.6.5"
  }
 },
 "nbformat": 4,
 "nbformat_minor": 2
}
